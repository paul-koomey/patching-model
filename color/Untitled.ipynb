{
 "cells": [
  {
   "cell_type": "code",
   "execution_count": 10,
   "id": "279e2c5b-8ebe-4504-9a19-33489ce0498c",
   "metadata": {},
   "outputs": [
    {
     "name": "stdout",
     "output_type": "stream",
     "text": [
      "height:  74304\n",
      "width:   65536\n",
      "ran\n"
     ]
    }
   ],
   "source": [
    "import pyvips\n",
    "import math\n",
    "import os\n",
    "import openslide\n",
    "patch_size = 200\n",
    "\n",
    "# import image\n",
    "image = pyvips.Image.tiffload('/home/data/not-gdc/latent-dim-64/TCGA-BR-A44T-01Z-00-DX1.46AA24E7-F2C9-418B-90AA-D6DA2896F5DE.tiff')\n",
    "\n",
    "\n",
    "# get image height and width\n",
    "print(\"height: \", image.height)\n",
    "print(\"width:  \", image.width)\n",
    "print(\"ran\")"
   ]
  },
  {
   "cell_type": "code",
   "execution_count": 9,
   "id": "731d7d47-99f0-4f8a-b304-b73628964da3",
   "metadata": {},
   "outputs": [
    {
     "ename": "OpenSlideUnsupportedFormatError",
     "evalue": "Unsupported or missing image file",
     "output_type": "error",
     "traceback": [
      "\u001b[0;31m---------------------------------------------------------------------------\u001b[0m",
      "\u001b[0;31mOpenSlideUnsupportedFormatError\u001b[0m           Traceback (most recent call last)",
      "Cell \u001b[0;32mIn [9], line 1\u001b[0m\n\u001b[0;32m----> 1\u001b[0m img \u001b[38;5;241m=\u001b[39m \u001b[43mopenslide\u001b[49m\u001b[38;5;241;43m.\u001b[39;49m\u001b[43mOpenSlide\u001b[49m\u001b[43m(\u001b[49m\u001b[38;5;124;43m\"\u001b[39;49m\u001b[38;5;124;43m/home/data/not-gdc/latent-dim-64/TCGA-BR-A44T-01Z-00-DX1.46AA24E7-F2C9-418B-90AA-D6DA2896F5DE.tiff\u001b[39;49m\u001b[38;5;124;43m\"\u001b[39;49m\u001b[43m)\u001b[49m\n",
      "File \u001b[0;32m~/miniconda3/envs/vae/lib/python3.9/site-packages/openslide/__init__.py:166\u001b[0m, in \u001b[0;36mOpenSlide.__init__\u001b[0;34m(self, filename)\u001b[0m\n\u001b[1;32m    164\u001b[0m AbstractSlide\u001b[38;5;241m.\u001b[39m\u001b[38;5;21m__init__\u001b[39m(\u001b[38;5;28mself\u001b[39m)\n\u001b[1;32m    165\u001b[0m \u001b[38;5;28mself\u001b[39m\u001b[38;5;241m.\u001b[39m_filename \u001b[38;5;241m=\u001b[39m filename\n\u001b[0;32m--> 166\u001b[0m \u001b[38;5;28mself\u001b[39m\u001b[38;5;241m.\u001b[39m_osr \u001b[38;5;241m=\u001b[39m \u001b[43mlowlevel\u001b[49m\u001b[38;5;241;43m.\u001b[39;49m\u001b[43mopen\u001b[49m\u001b[43m(\u001b[49m\u001b[38;5;28;43mstr\u001b[39;49m\u001b[43m(\u001b[49m\u001b[43mfilename\u001b[49m\u001b[43m)\u001b[49m\u001b[43m)\u001b[49m\n",
      "File \u001b[0;32m~/miniconda3/envs/vae/lib/python3.9/site-packages/openslide/lowlevel.py:195\u001b[0m, in \u001b[0;36m_check_open\u001b[0;34m(result, _func, _args)\u001b[0m\n\u001b[1;32m    193\u001b[0m \u001b[38;5;28;01mdef\u001b[39;00m \u001b[38;5;21m_check_open\u001b[39m(result, _func, _args):\n\u001b[1;32m    194\u001b[0m     \u001b[38;5;28;01mif\u001b[39;00m result \u001b[38;5;129;01mis\u001b[39;00m \u001b[38;5;28;01mNone\u001b[39;00m:\n\u001b[0;32m--> 195\u001b[0m         \u001b[38;5;28;01mraise\u001b[39;00m OpenSlideUnsupportedFormatError(\u001b[38;5;124m\"\u001b[39m\u001b[38;5;124mUnsupported or missing image file\u001b[39m\u001b[38;5;124m\"\u001b[39m)\n\u001b[1;32m    196\u001b[0m     slide \u001b[38;5;241m=\u001b[39m _OpenSlide(c_void_p(result))\n\u001b[1;32m    197\u001b[0m     err \u001b[38;5;241m=\u001b[39m get_error(slide)\n",
      "\u001b[0;31mOpenSlideUnsupportedFormatError\u001b[0m: Unsupported or missing image file"
     ]
    }
   ],
   "source": [
    "img = openslide.OpenSlide(\"/home/data/not-gdc/latent-dim-64/TCGA-BR-A44T-01Z-00-DX1.46AA24E7-F2C9-418B-90AA-D6DA2896F5DE.tiff\")"
   ]
  },
  {
   "cell_type": "code",
   "execution_count": null,
   "id": "83bad861-44c8-49ce-87b7-be5f91225452",
   "metadata": {},
   "outputs": [],
   "source": []
  }
 ],
 "metadata": {
  "kernelspec": {
   "display_name": "Python 3 (ipykernel)",
   "language": "python",
   "name": "python3"
  },
  "language_info": {
   "codemirror_mode": {
    "name": "ipython",
    "version": 3
   },
   "file_extension": ".py",
   "mimetype": "text/x-python",
   "name": "python",
   "nbconvert_exporter": "python",
   "pygments_lexer": "ipython3",
   "version": "3.9.13"
  }
 },
 "nbformat": 4,
 "nbformat_minor": 5
}
